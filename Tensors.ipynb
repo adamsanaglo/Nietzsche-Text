{
 "cells": [
  {
   "cell_type": "markdown",
   "metadata": {},
   "source": [
    "# $Tensor Analysis$"
   ]
  },
  {
   "cell_type": "markdown",
   "metadata": {},
   "source": [
    "## $f(x) = 6x^2 + 25$ ##"
   ]
  },
  {
   "cell_type": "code",
   "execution_count": 7,
   "metadata": {},
   "outputs": [],
   "source": [
    "import torch\n",
    "import numpy as np\n",
    "import matplotlib.pyplot as plt\n",
    "import pandas as pd"
   ]
  },
  {
   "cell_type": "code",
   "execution_count": 8,
   "metadata": {},
   "outputs": [
    {
     "data": {
      "text/plain": [
       "tensor([[ 0.2556,  0.8465, -0.1680],\n",
       "        [-0.5846,  1.4443, -1.4210]])"
      ]
     },
     "execution_count": 8,
     "metadata": {},
     "output_type": "execute_result"
    }
   ],
   "source": [
    "x = torch.randn(2, 3)\n",
    "x"
   ]
  },
  {
   "cell_type": "code",
   "execution_count": 9,
   "metadata": {},
   "outputs": [],
   "source": [
    "def generate_data(num_samples):\n",
    "    x = np.array(range(num_samples))\n",
    "    noise = np.random.uniform(-10, 20, size=num_samples)\n",
    "    y = 3.5*x + noise\n",
    "    return x, y"
   ]
  },
  {
   "cell_type": "code",
   "execution_count": 58,
   "metadata": {},
   "outputs": [
    {
     "name": "stdout",
     "output_type": "stream",
     "text": [
      "[[  0.          13.83366869]\n",
      " [  1.           5.19674375]\n",
      " [  2.          26.82886638]\n",
      " [  3.          17.684452  ]\n",
      " [  4.           9.44602886]\n",
      " [  5.          21.36264328]\n",
      " [  6.          28.88611589]\n",
      " [  7.          17.96069881]\n",
      " [  8.          21.24328626]\n",
      " [  9.          35.87637267]\n",
      " [ 10.          27.92056916]\n",
      " [ 11.          31.76495435]\n",
      " [ 12.          46.20978647]\n",
      " [ 13.          59.02868233]\n",
      " [ 14.          61.49464735]\n",
      " [ 15.          63.48113199]\n",
      " [ 16.          62.25228564]\n",
      " [ 17.          53.1424408 ]\n",
      " [ 18.          75.04981893]\n",
      " [ 19.          79.78206299]\n",
      " [ 20.          77.13329179]\n",
      " [ 21.          74.2521327 ]\n",
      " [ 22.          95.6750297 ]\n",
      " [ 23.          94.2002254 ]\n",
      " [ 24.         101.32192398]\n",
      " [ 25.          86.28314455]\n",
      " [ 26.          96.50742355]\n",
      " [ 27.         102.6886637 ]\n",
      " [ 28.          96.20197099]\n",
      " [ 29.         105.76535193]\n",
      " [ 30.         121.35336525]\n",
      " [ 31.         121.47487109]\n",
      " [ 32.         111.44865094]\n",
      " [ 33.         118.17882192]\n",
      " [ 34.         115.53681665]\n",
      " [ 35.         114.35842802]\n",
      " [ 36.         117.72731666]\n",
      " [ 37.         145.97975864]\n",
      " [ 38.         135.38643754]\n",
      " [ 39.         147.68112561]\n",
      " [ 40.         142.30911051]\n",
      " [ 41.         142.22200071]\n",
      " [ 42.         166.60135302]\n",
      " [ 43.         147.8924696 ]\n",
      " [ 44.         164.92340968]\n",
      " [ 45.         172.11805794]\n",
      " [ 46.         167.10303026]\n",
      " [ 47.         171.37449387]\n",
      " [ 48.         158.25606709]\n",
      " [ 49.         172.73501793]]\n"
     ]
    }
   ],
   "source": [
    "x, y = generate_data(50)\n",
    "data = np.vstack([x, y]).T\n",
    "print(data)"
   ]
  },
  {
   "cell_type": "code",
   "execution_count": 59,
   "metadata": {},
   "outputs": [
    {
     "data": {
      "text/html": [
       "<div>\n",
       "<style scoped>\n",
       "    .dataframe tbody tr th:only-of-type {\n",
       "        vertical-align: middle;\n",
       "    }\n",
       "\n",
       "    .dataframe tbody tr th {\n",
       "        vertical-align: top;\n",
       "    }\n",
       "\n",
       "    .dataframe thead th {\n",
       "        text-align: right;\n",
       "    }\n",
       "</style>\n",
       "<table border=\"1\" class=\"dataframe\">\n",
       "  <thead>\n",
       "    <tr style=\"text-align: right;\">\n",
       "      <th></th>\n",
       "      <th>x</th>\n",
       "      <th>y</th>\n",
       "    </tr>\n",
       "  </thead>\n",
       "  <tbody>\n",
       "    <tr>\n",
       "      <th>0</th>\n",
       "      <td>0.0</td>\n",
       "      <td>13.833669</td>\n",
       "    </tr>\n",
       "    <tr>\n",
       "      <th>1</th>\n",
       "      <td>1.0</td>\n",
       "      <td>5.196744</td>\n",
       "    </tr>\n",
       "    <tr>\n",
       "      <th>2</th>\n",
       "      <td>2.0</td>\n",
       "      <td>26.828866</td>\n",
       "    </tr>\n",
       "    <tr>\n",
       "      <th>3</th>\n",
       "      <td>3.0</td>\n",
       "      <td>17.684452</td>\n",
       "    </tr>\n",
       "    <tr>\n",
       "      <th>4</th>\n",
       "      <td>4.0</td>\n",
       "      <td>9.446029</td>\n",
       "    </tr>\n",
       "  </tbody>\n",
       "</table>\n",
       "</div>"
      ],
      "text/plain": [
       "     x          y\n",
       "0  0.0  13.833669\n",
       "1  1.0   5.196744\n",
       "2  2.0  26.828866\n",
       "3  3.0  17.684452\n",
       "4  4.0   9.446029"
      ]
     },
     "execution_count": 59,
     "metadata": {},
     "output_type": "execute_result"
    }
   ],
   "source": [
    "data2 = pd.DataFrame(data, columns = [\"x\", \"y\"])\n",
    "x = data2[[\"x\"]].values\n",
    "y = data2[[\"y\"]].values\n",
    "data2.head()"
   ]
  },
  {
   "cell_type": "code",
   "execution_count": 60,
   "metadata": {},
   "outputs": [
    {
     "data": {
      "image/png": "[encoded data removed]",
      "text/plain": [
       "<Figure size 1080x720 with 1 Axes>"
      ]
     },
     "metadata": {
      "needs_background": "light"
     },
     "output_type": "display_data"
    }
   ],
   "source": [
    "plt.figure(figsize=(15,10))\n",
    "plt.title(\"$Tensors$\", size =30)\n",
    "plt.scatter(x, y, alpha = 0.7, color=\"red\")\n",
    "plt.show()"
   ]
  },
  {
   "cell_type": "code",
   "execution_count": 61,
   "metadata": {},
   "outputs": [],
   "source": [
    "train_size = 0.7\n",
    "test_size = 0.15\n",
    "val_size = 0.15\n",
    "SHUFFLE = True"
   ]
  },
  {
   "cell_type": "code",
   "execution_count": 62,
   "metadata": {},
   "outputs": [],
   "source": [
    "if SHUFFLE:\n",
    "    indices = list(range(50))\n",
    "    np.random.shuffle(indices)\n",
    "    x = x[indices]\n",
    "    y = y[indices]"
   ]
  },
  {
   "cell_type": "code",
   "execution_count": 63,
   "metadata": {},
   "outputs": [],
   "source": [
    "train_start = 0\n",
    "train_end = int(train_size*50)\n",
    "val_start = train_end\n",
    "val_end = int((train_size + val_size)*50)\n",
    "test_start = val_end"
   ]
  },
  {
   "cell_type": "code",
   "execution_count": 64,
   "metadata": {},
   "outputs": [
    {
     "name": "stdout",
     "output_type": "stream",
     "text": [
      "Training data:  (35, 1)\n",
      "Testing data:  (8, 1)\n",
      "Validating data:  (7, 1)\n"
     ]
    }
   ],
   "source": [
    "x_train = x[train_start:train_end]\n",
    "y_train = y[train_start:train_end]\n",
    "x_val = x[val_start:val_end]\n",
    "y_val = y[val_start:val_end]\n",
    "x_test = x[test_start:]\n",
    "y_test = y[test_start:]\n",
    "print(f\"Training data:  {x_train.shape}\")\n",
    "print(f\"Testing data:  {x_test.shape}\")\n",
    "print(f\"Validating data:  {x_val.shape}\")"
   ]
  },
  {
   "cell_type": "code",
   "execution_count": 65,
   "metadata": {},
   "outputs": [],
   "source": [
    "def standardize(data2, mean, std):\n",
    "    return (data - mean)/std"
   ]
  },
  {
   "cell_type": "code",
   "execution_count": null,
   "metadata": {},
   "outputs": [],
   "source": [
    "x_mean= np.mean(x_train)\n",
    "y_mean=np.mean(y_train)\n",
    "x_std=np.std(x_train)\n",
    "y_std=np.std(y_train)"
   ]
  },
  {
   "cell_type": "code",
   "execution_count": null,
   "metadata": {},
   "outputs": [],
   "source": [
    "x_train= standardize(x_mean, x_std)\n",
    "y_train= standardize(y_mean, y_std)\n",
    "x_val= standardize(x_mean, x_std)\n",
    "y_val= standardize(y_mean, y_std)\n",
    "x_test= standardize(x_mean, x_std)\n",
    "y_test= standardize(y_mean, y_std)"
   ]
  }
 ],
 "metadata": {
  "kernelspec": {
   "display_name": "Python 3",
   "language": "python",
   "name": "python3"
  }
 },
 "nbformat": 4,
 "nbformat_minor": 4
}
